{
 "cells": [
  {
   "cell_type": "markdown",
   "metadata": {},
   "source": [
    "# Katas Challenges "
   ]
  },
  {
   "cell_type": "markdown",
   "metadata": {},
   "source": [
    "### Creating a Dictionary (7)"
   ]
  },
  {
   "cell_type": "code",
   "execution_count": null,
   "metadata": {},
   "outputs": [],
   "source": [
    "circus = [1,46,234,6,1,7,123]"
   ]
  },
  {
   "cell_type": "code",
   "execution_count": 20,
   "metadata": {},
   "outputs": [
    {
     "data": {
      "text/plain": [
       "['301.5',\n",
       " '468.7',\n",
       " '227.3',\n",
       " '637.5',\n",
       " '517.6',\n",
       " '134.2',\n",
       " '461.0',\n",
       " '325.2',\n",
       " '340.9',\n",
       " '177.5']"
      ]
     },
     "execution_count": 20,
     "metadata": {},
     "output_type": "execute_result"
    }
   ],
   "source": [
    "city_data = [(\"New York\", \"New York\", 8622698, \"301.5 sq mi\"), \n",
    "             (\"Los Angeles\", \"California\", 3999759, \"468.7 sq mi\"),\n",
    "             (\"Chicago\", \"Illinois\", 2716450, \"227.3 sq mi\"),\n",
    "             (\"Houston\", \"Texas\", 2312717, \"637.5 sq mi\"),\n",
    "             (\"Phoenix\", \"Arizona\", 1626078, \"517.6 sq mi\"),\n",
    "             (\"Philadelphia\", \"Pennsylvania\", 1580863, \"134.2 sq mi\"),\n",
    "             (\"San Antonio\", \"Texas\", 1511946, \"461.0 sq mi\"),\n",
    "             (\"San Diego\", \"California\", 1419516, \"325.2 sq mi\"),\n",
    "             (\"Dallas\", \"Texas\", 1341075, \"340.9 sq mi\"),\n",
    "             (\"San Jose\", \"California\", 1035317, \"177.5 sq mi\")]\n",
    "\n",
    "size = [city[3].split()[0] for city in city_data]\n",
    "size"
   ]
  },
  {
   "cell_type": "code",
   "execution_count": 3,
   "metadata": {},
   "outputs": [],
   "source": [
    "class Dictionary():\n",
    "    \n",
    "    def __init__(self, l = {}):\n",
    "        self.l = {}\n",
    "\n",
    "        # Your code\n",
    "        \n",
    "    def newentry(self, word, definition):\n",
    "        self.l[word] = definition\n",
    "        \n",
    "        # Your code\n",
    "        \n",
    "    def look(self, key):\n",
    "        if key in self.l.keys():\n",
    "            return self.l[key]\n",
    "        else:\n",
    "            return f\"Can't find entry for {key}\"\n",
    "        # your code\n",
    "        \n",
    "        \n",
    "d = Dictionary()\n",
    "\n",
    "d.newentry(\"Pear\", \"A fruit that doesn't grow on trees\")\n",
    "d.newentry(\"dog\", \"blahblah\")\n",
    "d.newentry(\"my mah\", \"your mah\")"
   ]
  },
  {
   "cell_type": "markdown",
   "metadata": {},
   "source": [
    "### File Path Operations"
   ]
  },
  {
   "cell_type": "code",
   "execution_count": 1,
   "metadata": {},
   "outputs": [
    {
     "data": {
      "text/plain": [
       "'/Users/jessicaparker/Desktop/Data/Chinese_NLP_Project'"
      ]
     },
     "execution_count": 1,
     "metadata": {},
     "output_type": "execute_result"
    }
   ],
   "source": [
    "pwd"
   ]
  },
  {
   "cell_type": "code",
   "execution_count": 1,
   "metadata": {},
   "outputs": [
    {
     "ename": "NameError",
     "evalue": "name 'master' is not defined",
     "output_type": "error",
     "traceback": [
      "\u001b[0;31m---------------------------------------------------------------------------\u001b[0m",
      "\u001b[0;31mNameError\u001b[0m                                 Traceback (most recent call last)",
      "\u001b[0;32m<ipython-input-1-da0a8fc4b533>\u001b[0m in \u001b[0;36m<module>\u001b[0;34m\u001b[0m\n\u001b[1;32m     16\u001b[0m \u001b[0;34m\u001b[0m\u001b[0m\n\u001b[1;32m     17\u001b[0m \u001b[0;34m\u001b[0m\u001b[0m\n\u001b[0;32m---> 18\u001b[0;31m \u001b[0mno_ext\u001b[0m \u001b[0;34m=\u001b[0m \u001b[0mmaster\u001b[0m\u001b[0;34m.\u001b[0m\u001b[0mfilepath\u001b[0m\u001b[0;34m.\u001b[0m\u001b[0msplit\u001b[0m\u001b[0;34m(\u001b[0m\u001b[0;34m\".\"\u001b[0m\u001b[0;34m)\u001b[0m\u001b[0;34m[\u001b[0m\u001b[0;36m0\u001b[0m\u001b[0;34m]\u001b[0m\u001b[0;34m[\u001b[0m\u001b[0;36m1\u001b[0m\u001b[0;34m]\u001b[0m\u001b[0;34m\u001b[0m\u001b[0;34m\u001b[0m\u001b[0m\n\u001b[0m\u001b[1;32m     19\u001b[0m \u001b[0;34m\u001b[0m\u001b[0m\n",
      "\u001b[0;31mNameError\u001b[0m: name 'master' is not defined"
     ]
    }
   ],
   "source": [
    "\n",
    "class FileMaster():\n",
    "    \n",
    "    def __init__(self, filepath):\n",
    "        self.filepath  = filepath\n",
    "\n",
    "    def extension(self):\n",
    "        return self.filepath.split(\".\")[-1]\n",
    "\n",
    "    def filename(self):\n",
    "        return self.filepath.split(\"/\")[-1].split(\".\")[-2]\n",
    "    \n",
    "    def dirpath(self):\n",
    "        return self.filepath.split(\".\")[0]\n",
    "        #Your code here\n",
    "        \n",
    "        \n",
    "\n",
    "no_ext = master.filepath.split(\".\")[0][1]\n",
    "\n"
   ]
  },
  {
   "cell_type": "code",
   "execution_count": 11,
   "metadata": {},
   "outputs": [
    {
     "data": {
      "text/plain": [
       "195"
      ]
     },
     "execution_count": 11,
     "metadata": {},
     "output_type": "execute_result"
    }
   ],
   "source": [
    "s1 = \"a\"\n",
    "s2 = \"b\"\n",
    "\n",
    "\n",
    "\n",
    "# s1 = s1.encode()\n",
    "# s2 = s2.encode()\n",
    "# s1 = sum(len(s1, s2))\n",
    "\n",
    "s1 = \"a\"\n",
    "s1 = s1.encode()\n",
    "s2 = s2.encode()\n",
    "\n",
    "sum(s1) + sum(s2)"
   ]
  }
 ],
 "metadata": {
  "kernelspec": {
   "display_name": "Python 3",
   "language": "python",
   "name": "python3"
  },
  "language_info": {
   "codemirror_mode": {
    "name": "ipython",
    "version": 3
   },
   "file_extension": ".py",
   "mimetype": "text/x-python",
   "name": "python",
   "nbconvert_exporter": "python",
   "pygments_lexer": "ipython3",
   "version": "3.7.7"
  }
 },
 "nbformat": 4,
 "nbformat_minor": 4
}
